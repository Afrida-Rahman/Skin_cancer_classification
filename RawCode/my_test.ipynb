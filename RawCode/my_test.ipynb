{
 "cells": [
  {
   "cell_type": "code",
   "execution_count": 2,
   "id": "5770bf67",
   "metadata": {},
   "outputs": [
    {
     "name": "stderr",
     "output_type": "stream",
     "text": [
      "/home/afrida/anaconda3/envs/skin_cancer_classification/lib/python3.8/site-packages/tensorflow_addons/utils/ensure_tf_install.py:53: UserWarning: Tensorflow Addons supports using Python ops for all Tensorflow versions above or equal to 2.8.0 and strictly below 2.11.0 (nightly versions are not supported). \n",
      " The versions of TensorFlow you are currently using is 2.11.0 and is not supported. \n",
      "Some things might work, some things might not.\n",
      "If you were to encounter a bug, do not file an issue.\n",
      "If you want to make sure you're using a tested and supported configuration, either change the TensorFlow version or the TensorFlow Addons's version. \n",
      "You can find the compatibility matrix in TensorFlow Addon's readme:\n",
      "https://github.com/tensorflow/addons\n",
      "  warnings.warn(\n"
     ]
    }
   ],
   "source": [
    "import cv2\n",
    "import tensorflow as tf\n",
    "import os\n",
    "import sys\n",
    "sys.path.append('./Swin-Transformer-TF')\n",
    "from swintransformer import SwinTransformer\n",
    "import numpy as np\n",
    "import matplotlib.pyplot as plt\n",
    "from sklearn.model_selection import RepeatedStratifiedKFold, train_test_split\n",
    "from vit_keras import vit, utils, visualize\n",
    "\n",
    "print(\"num gpu:\", len(tf.config.experimental.list_physical_devices('GPU')))"
   ]
  },
  {
   "cell_type": "code",
   "execution_count": 6,
   "id": "3f87110d",
   "metadata": {},
   "outputs": [],
   "source": [
    "x_train = np.load(\"./breaSwinTNet/x_train.npy\")\n",
    "y_train=np.load(\"./breaSwinTNet/y_train.npy\")"
   ]
  },
  {
   "cell_type": "code",
   "execution_count": 8,
   "id": "efa76260",
   "metadata": {},
   "outputs": [
    {
     "name": "stderr",
     "output_type": "stream",
     "text": [
      "2022-11-30 19:11:36.195376: I tensorflow/core/platform/cpu_feature_guard.cc:193] This TensorFlow binary is optimized with oneAPI Deep Neural Network Library (oneDNN) to use the following CPU instructions in performance-critical operations:  AVX2 FMA\n",
      "To enable them in other operations, rebuild TensorFlow with the appropriate compiler flags.\n"
     ]
    }
   ],
   "source": [
    "IMAGE_SIZE = [x_train.shape[1], x_train.shape[1], 3]\n",
    "NUM_CLASSES = 7\n",
    "\n",
    "swin_vit = SwinTransformer('swin_tiny_224', include_top=False, pretrained=True)\n",
    "\n",
    "model = tf.keras.Sequential()\n",
    "model.add(tf.keras.Input(shape = IMAGE_SIZE))\n",
    "model.add(swin_vit)\n",
    "model.add(tf.keras.layers.Dense(NUM_CLASSES, activation='softmax'))\n",
    "\n",
    "model.build(IMAGE_SIZE)"
   ]
  },
  {
   "cell_type": "code",
   "execution_count": 9,
   "id": "ce8683c3",
   "metadata": {},
   "outputs": [
    {
     "name": "stdout",
     "output_type": "stream",
     "text": [
      "Model: \"sequential_5\"\n",
      "_________________________________________________________________\n",
      " Layer (type)                Output Shape              Param #   \n",
      "=================================================================\n",
      " swin_tiny_224 (SwinTransfor  (None, 768)              27769058  \n",
      " merModel)                                                       \n",
      "                                                                 \n",
      " dense (Dense)               (None, 7)                 5383      \n",
      "                                                                 \n",
      "=================================================================\n",
      "Total params: 27,774,441\n",
      "Trainable params: 27,524,737\n",
      "Non-trainable params: 249,704\n",
      "_________________________________________________________________\n"
     ]
    }
   ],
   "source": [
    "model.summary()\n",
    "\n",
    "model.compile(optimizer = tf.keras.optimizers.Adadelta(learning_rate = 0.1), loss = 'sparse_categorical_crossentropy', metrics = ['accuracy'])"
   ]
  },
  {
   "cell_type": "code",
   "execution_count": null,
   "id": "464b1f5f",
   "metadata": {},
   "outputs": [
    {
     "name": "stdout",
     "output_type": "stream",
     "text": [
      "Epoch 1/15\n"
     ]
    },
    {
     "name": "stderr",
     "output_type": "stream",
     "text": [
      "2022-11-30 19:11:54.685279: W tensorflow/tsl/framework/cpu_allocator_impl.cc:82] Allocation of 3256221696 exceeds 10% of free system memory.\n"
     ]
    },
    {
     "name": "stdout",
     "output_type": "stream",
     "text": [
      "1352/1352 [==============================] - ETA: 0s - loss: 0.7802 - accuracy: 0.7311WARNING:tensorflow:AutoGraph could not transform <function Model.make_test_function.<locals>.test_function at 0x7fdb1c46e430> and will run it as-is.\n",
      "Please report this to the TensorFlow team. When filing the bug, set the verbosity to 10 (on Linux, `export AUTOGRAPH_VERBOSITY=10`) and attach the full output.\n",
      "Cause: closure mismatch, requested ('self', 'step_function'), but source function had ()\n",
      "To silence this warning, decorate the function with @tf.autograph.experimental.do_not_convert\n",
      "WARNING: AutoGraph could not transform <function Model.make_test_function.<locals>.test_function at 0x7fdb1c46e430> and will run it as-is.\n",
      "Please report this to the TensorFlow team. When filing the bug, set the verbosity to 10 (on Linux, `export AUTOGRAPH_VERBOSITY=10`) and attach the full output.\n",
      "Cause: closure mismatch, requested ('self', 'step_function'), but source function had ()\n",
      "To silence this warning, decorate the function with @tf.autograph.experimental.do_not_convert\n"
     ]
    },
    {
     "name": "stderr",
     "output_type": "stream",
     "text": [
      "2022-11-30 19:29:25.815341: W tensorflow/tsl/framework/cpu_allocator_impl.cc:82] Allocation of 361869312 exceeds 10% of free system memory.\n"
     ]
    },
    {
     "name": "stdout",
     "output_type": "stream",
     "text": [
      "1352/1352 [==============================] - 1102s 786ms/step - loss: 0.7802 - accuracy: 0.7311 - val_loss: 0.5551 - val_accuracy: 0.7820\n",
      "Epoch 2/15\n",
      "1352/1352 [==============================] - 1017s 753ms/step - loss: 0.5303 - accuracy: 0.8077 - val_loss: 0.3954 - val_accuracy: 0.8453\n",
      "Epoch 3/15\n",
      "1352/1352 [==============================] - 1007s 745ms/step - loss: 0.3668 - accuracy: 0.8650 - val_loss: 0.4696 - val_accuracy: 0.8386\n",
      "Epoch 4/15\n",
      " 781/1352 [================>.............] - ETA: 7:17 - loss: 0.2253 - accuracy: 0.9117"
     ]
    }
   ],
   "source": [
    "model.fit(x_train, y_train, batch_size = 4, epochs = 15, validation_split = 0.10)"
   ]
  },
  {
   "cell_type": "code",
   "execution_count": null,
   "id": "e6144493",
   "metadata": {},
   "outputs": [],
   "source": [
    "x_test = np.load(\"./x_test.npy\")\n",
    "y_test=np.load(\"./y_test.npy\")"
   ]
  },
  {
   "cell_type": "code",
   "execution_count": null,
   "id": "6760d009",
   "metadata": {},
   "outputs": [],
   "source": [
    "model.evaluate(x_test, y_test)"
   ]
  },
  {
   "cell_type": "code",
   "execution_count": null,
   "id": "b030fef6",
   "metadata": {},
   "outputs": [],
   "source": [
    "y_pred = model.predict(x_test)"
   ]
  },
  {
   "cell_type": "code",
   "execution_count": null,
   "id": "dc3490cb",
   "metadata": {},
   "outputs": [],
   "source": [
    "y_prob = np.argmax(y_pred, axis = 1)"
   ]
  },
  {
   "cell_type": "code",
   "execution_count": null,
   "id": "303c7a51",
   "metadata": {},
   "outputs": [],
   "source": [
    "import sklearn\n",
    "\n",
    "print(f'Accuracy {sklearn.metrics.accuracy_score(y_test, y_prob)}')\n",
    "AUC = sklearn.metrics.roc_auc_score(y_test, y_pred, multi_class='ovo')\n",
    "print(f'AUC is {AUC}')\n",
    "target_names = [\"akiec\", \"bcc\", \"bkl\", \"df\", \"mel\", \"vasc\", \"nv\"]\n",
    "print('F1-score', sklearn.metrics.f1_score(y_test, y_prob, average = 'micro'))\n",
    "print(f'Balanced accuracy {sklearn.metrics.balanced_accuracy_score(y_test, y_prob)}')\n",
    "print(f'MCC {sklearn.metrics.matthews_corrcoef(y_test, y_prob)}')\n",
    "print(f'{sklearn.metrics.classification_report(y_test, y_prob, target_names=target_names)}')"
   ]
  },
  {
   "cell_type": "code",
   "execution_count": null,
   "id": "0c957c0d",
   "metadata": {},
   "outputs": [],
   "source": []
  }
 ],
 "metadata": {
  "kernelspec": {
   "display_name": "skin_cancer_classification",
   "language": "python",
   "name": "skin_cancer_classification"
  },
  "language_info": {
   "codemirror_mode": {
    "name": "ipython",
    "version": 3
   },
   "file_extension": ".py",
   "mimetype": "text/x-python",
   "name": "python",
   "nbconvert_exporter": "python",
   "pygments_lexer": "ipython3",
   "version": "3.8.13"
  }
 },
 "nbformat": 4,
 "nbformat_minor": 5
}
