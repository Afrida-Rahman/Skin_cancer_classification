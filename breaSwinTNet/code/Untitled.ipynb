{
 "cells": [
  {
   "cell_type": "code",
   "execution_count": 1,
   "id": "ac39c29d",
   "metadata": {},
   "outputs": [
    {
     "name": "stderr",
     "output_type": "stream",
     "text": [
      "2022-12-02 18:52:32.198174: I tensorflow/core/platform/cpu_feature_guard.cc:193] This TensorFlow binary is optimized with oneAPI Deep Neural Network Library (oneDNN) to use the following CPU instructions in performance-critical operations:  AVX2 FMA\n",
      "To enable them in other operations, rebuild TensorFlow with the appropriate compiler flags.\n",
      "2022-12-02 18:52:32.425800: W tensorflow/compiler/xla/stream_executor/platform/default/dso_loader.cc:64] Could not load dynamic library 'libcudart.so.11.0'; dlerror: libcudart.so.11.0: cannot open shared object file: No such file or directory\n",
      "2022-12-02 18:52:32.425825: I tensorflow/compiler/xla/stream_executor/cuda/cudart_stub.cc:29] Ignore above cudart dlerror if you do not have a GPU set up on your machine.\n",
      "2022-12-02 18:52:34.177656: W tensorflow/compiler/xla/stream_executor/platform/default/dso_loader.cc:64] Could not load dynamic library 'libnvinfer.so.7'; dlerror: libnvinfer.so.7: cannot open shared object file: No such file or directory\n",
      "2022-12-02 18:52:34.177767: W tensorflow/compiler/xla/stream_executor/platform/default/dso_loader.cc:64] Could not load dynamic library 'libnvinfer_plugin.so.7'; dlerror: libnvinfer_plugin.so.7: cannot open shared object file: No such file or directory\n",
      "2022-12-02 18:52:34.177777: W tensorflow/compiler/tf2tensorrt/utils/py_utils.cc:38] TF-TRT Warning: Cannot dlopen some TensorRT libraries. If you would like to use Nvidia GPU with TensorRT, please make sure the missing libraries mentioned above are installed properly.\n"
     ]
    },
    {
     "name": "stdout",
     "output_type": "stream",
     "text": [
      "GPU: []\n",
      "WARNING:tensorflow:From /tmp/ipykernel_40405/2709802647.py:10: is_gpu_available (from tensorflow.python.framework.test_util) is deprecated and will be removed in a future version.\n",
      "Instructions for updating:\n",
      "Use `tf.config.list_physical_devices('GPU')` instead.\n"
     ]
    },
    {
     "name": "stderr",
     "output_type": "stream",
     "text": [
      "2022-12-02 18:52:37.838578: I tensorflow/compiler/xla/stream_executor/cuda/cuda_gpu_executor.cc:981] successful NUMA node read from SysFS had negative value (-1), but there must be at least one NUMA node, so returning NUMA node zero\n",
      "2022-12-02 18:52:37.840113: W tensorflow/compiler/xla/stream_executor/platform/default/dso_loader.cc:64] Could not load dynamic library 'libcudart.so.11.0'; dlerror: libcudart.so.11.0: cannot open shared object file: No such file or directory\n",
      "2022-12-02 18:52:37.840678: W tensorflow/compiler/xla/stream_executor/platform/default/dso_loader.cc:64] Could not load dynamic library 'libcublas.so.11'; dlerror: libcublas.so.11: cannot open shared object file: No such file or directory\n",
      "2022-12-02 18:52:37.841588: W tensorflow/compiler/xla/stream_executor/platform/default/dso_loader.cc:64] Could not load dynamic library 'libcublasLt.so.11'; dlerror: libcublasLt.so.11: cannot open shared object file: No such file or directory\n",
      "2022-12-02 18:52:37.842213: W tensorflow/compiler/xla/stream_executor/platform/default/dso_loader.cc:64] Could not load dynamic library 'libcufft.so.10'; dlerror: libcufft.so.10: cannot open shared object file: No such file or directory\n",
      "2022-12-02 18:52:37.842339: W tensorflow/compiler/xla/stream_executor/platform/default/dso_loader.cc:64] Could not load dynamic library 'libcurand.so.10'; dlerror: libcurand.so.10: cannot open shared object file: No such file or directory\n",
      "2022-12-02 18:52:37.842422: W tensorflow/compiler/xla/stream_executor/platform/default/dso_loader.cc:64] Could not load dynamic library 'libcusolver.so.11'; dlerror: libcusolver.so.11: cannot open shared object file: No such file or directory\n",
      "2022-12-02 18:52:37.842509: W tensorflow/compiler/xla/stream_executor/platform/default/dso_loader.cc:64] Could not load dynamic library 'libcusparse.so.11'; dlerror: libcusparse.so.11: cannot open shared object file: No such file or directory\n",
      "2022-12-02 18:52:37.842610: W tensorflow/compiler/xla/stream_executor/platform/default/dso_loader.cc:64] Could not load dynamic library 'libcudnn.so.8'; dlerror: libcudnn.so.8: cannot open shared object file: No such file or directory\n",
      "2022-12-02 18:52:37.842645: W tensorflow/core/common_runtime/gpu/gpu_device.cc:1934] Cannot dlopen some GPU libraries. Please make sure the missing libraries mentioned above are installed properly if you would like to use GPU. Follow the guide at https://www.tensorflow.org/install/gpu for how to download and setup the required libraries for your platform.\n",
      "Skipping registering GPU devices...\n",
      "2022-12-02 18:52:37.846787: I tensorflow/core/platform/cpu_feature_guard.cc:193] This TensorFlow binary is optimized with oneAPI Deep Neural Network Library (oneDNN) to use the following CPU instructions in performance-critical operations:  AVX2 FMA\n",
      "To enable them in other operations, rebuild TensorFlow with the appropriate compiler flags.\n",
      "2022-12-02 18:52:37.850905: I tensorflow/compiler/xla/stream_executor/cuda/cuda_gpu_executor.cc:981] successful NUMA node read from SysFS had negative value (-1), but there must be at least one NUMA node, so returning NUMA node zero\n",
      "2022-12-02 18:52:37.851365: W tensorflow/core/common_runtime/gpu/gpu_device.cc:1934] Cannot dlopen some GPU libraries. Please make sure the missing libraries mentioned above are installed properly if you would like to use GPU. Follow the guide at https://www.tensorflow.org/install/gpu for how to download and setup the required libraries for your platform.\n",
      "Skipping registering GPU devices...\n"
     ]
    },
    {
     "name": "stdout",
     "output_type": "stream",
     "text": [
      "Available gpu: False\n"
     ]
    },
    {
     "name": "stderr",
     "output_type": "stream",
     "text": [
      "2022-12-02 18:53:30.881316: W tensorflow/tsl/framework/cpu_allocator_impl.cc:82] Allocation of 2412060672 exceeds 10% of free system memory.\n",
      "2022-12-02 18:53:33.588825: W tensorflow/tsl/framework/cpu_allocator_impl.cc:82] Allocation of 38535168 exceeds 10% of free system memory.\n",
      "2022-12-02 18:53:33.622429: W tensorflow/tsl/framework/cpu_allocator_impl.cc:82] Allocation of 38535168 exceeds 10% of free system memory.\n",
      "2022-12-02 18:53:33.630536: W tensorflow/tsl/framework/cpu_allocator_impl.cc:82] Allocation of 38535168 exceeds 10% of free system memory.\n",
      "2022-12-02 18:53:33.633167: W tensorflow/tsl/framework/cpu_allocator_impl.cc:82] Allocation of 38535168 exceeds 10% of free system memory.\n"
     ]
    },
    {
     "name": "stdout",
     "output_type": "stream",
     "text": [
      "126/126 [==============================] - 423s 3s/step - loss: 1.0179 - accuracy: 0.8652\n",
      "126/126 [==============================] - 415s 3s/step\n",
      "Accuracy 0.8652021967049426\n",
      "Balanced accuracy: 0.7516825453014315\n",
      "AUC: 0.9567916419749304\n",
      "F1-score : 0.8652021967049426\n",
      "MCC: 0.7427139554845735\n",
      "                akiec         bcc         bkl         df         mel  \\\n",
      "precision    0.671642    0.840426    0.719078   0.666667    0.709220   \n",
      "recall       0.756303    0.778325    0.762222   0.571429    0.657895   \n",
      "f1-score     0.711462    0.808184    0.740022   0.615385    0.682594   \n",
      "support    119.000000  203.000000  450.000000  42.000000  456.000000   \n",
      "\n",
      "                  vasc         nv  accuracy    macro avg  weighted avg  \n",
      "precision     0.930033   0.852459  0.865202     0.769932      0.864965  \n",
      "recall        0.935605   0.800000  0.865202     0.751683      0.865202  \n",
      "f1-score      0.932811   0.825397  0.865202     0.759408      0.864711  \n",
      "support    2671.000000  65.000000  0.865202  4006.000000   4006.000000  \n"
     ]
    }
   ],
   "source": [
    "import tensorflow as tf\n",
    "from sklearn.metrics import confusion_matrix\n",
    "import numpy as np\n",
    "import pandas as pd\n",
    "import matplotlib.pyplot as plt\n",
    "import sklearn\n",
    "import seaborn as sns\n",
    "\n",
    "print(\"GPU: \" + str(tf.config.list_physical_devices('GPU')))\n",
    "print(\"Available gpu: \" + str(tf.test.is_gpu_available()))\n",
    "\n",
    "data_path = \"/home/afrida/Documents/skin_cancer_classification/breaSwinTNet/customized_data/\"\n",
    "result_path = \"/home/afrida/Documents/skin_cancer_classification/breaSwinTNet/result/\"\n",
    "model_path = \"/home/afrida/Documents/skin_cancer_classification/breaSwinTNet/model/\"\n",
    "\n",
    "model = tf.keras.models.load_model(model_path + \"model_20e\")\n",
    "x_test = np.load(data_path + \"x_test.npy\")\n",
    "y_test = np.load(data_path + \"y_test.npy\")\n",
    "\n",
    "model.evaluate(x_test, y_test)\n",
    "y_pred = model.predict(x_test)\n",
    "y_prob = np.argmax(y_pred, axis=1)\n",
    "\n",
    "acc = sklearn.metrics.accuracy_score(y_test, y_prob)\n",
    "auc = sklearn.metrics.roc_auc_score(y_test, y_pred, multi_class='ovo')\n",
    "target_names = [\"akiec\", \"bcc\", \"bkl\", \"df\", \"mel\", \"vasc\", \"nv\"]\n",
    "f1 = sklearn.metrics.f1_score(y_test, y_prob, average='micro')\n",
    "bacc = sklearn.metrics.balanced_accuracy_score(y_test, y_prob)\n",
    "mcc = sklearn.metrics.matthews_corrcoef(y_test, y_prob)\n",
    "cf = pd.DataFrame(sklearn.metrics.classification_report(y_test, y_prob, target_names=target_names, output_dict=True))\n",
    "cf_matrix = confusion_matrix(y_test, y_prob)\n",
    "\n",
    "print(f'Accuracy {acc}')\n",
    "print(f'Balanced accuracy: {bacc}')\n",
    "print(f'AUC: {auc}')\n",
    "print(f'F1-score : {f1}')\n",
    "print(f'MCC: {mcc}')\n",
    "print(f'{cf}')\n",
    "\n",
    "metrics = [acc, bacc, auc, f1, mcc]\n",
    "df = pd.DataFrame(metrics, index=['acc','bacc','auc','f1','mcc'])"
   ]
  },
  {
   "cell_type": "code",
   "execution_count": 8,
   "id": "606b79ab",
   "metadata": {},
   "outputs": [
    {
     "name": "stdout",
     "output_type": "stream",
     "text": [
      "\u001b[31mERROR: Could not find a version that satisfies the requirement python-openpyxl (from versions: none)\u001b[0m\r\n",
      "\u001b[31mERROR: No matching distribution found for python-openpyxl\u001b[0m\r\n"
     ]
    },
    {
     "ename": "ModuleNotFoundError",
     "evalue": "No module named 'openpyxl'",
     "output_type": "error",
     "traceback": [
      "\u001b[0;31m---------------------------------------------------------------------------\u001b[0m",
      "\u001b[0;31mModuleNotFoundError\u001b[0m                       Traceback (most recent call last)",
      "Input \u001b[0;32mIn [8]\u001b[0m, in \u001b[0;36m<cell line: 6>\u001b[0;34m()\u001b[0m\n\u001b[1;32m      1\u001b[0m \u001b[38;5;66;03m# !pip install openpyxl\u001b[39;00m\n\u001b[1;32m      2\u001b[0m \u001b[38;5;66;03m# !pip install --user xlsxwriter\u001b[39;00m\n\u001b[1;32m      3\u001b[0m \u001b[38;5;66;03m# !pip install xlrd==1.2.0\u001b[39;00m\n\u001b[1;32m      4\u001b[0m get_ipython()\u001b[38;5;241m.\u001b[39msystem(\u001b[38;5;124m'\u001b[39m\u001b[38;5;124mpip install python-openpyxl\u001b[39m\u001b[38;5;124m'\u001b[39m)\n\u001b[0;32m----> 6\u001b[0m \u001b[38;5;28;01mfrom\u001b[39;00m \u001b[38;5;21;01mopenpyxl\u001b[39;00m \u001b[38;5;28;01mimport\u001b[39;00m Workbook\n\u001b[1;32m      8\u001b[0m \u001b[38;5;28;01mwith\u001b[39;00m pd\u001b[38;5;241m.\u001b[39mExcelWriter(result_path \u001b[38;5;241m+\u001b[39m \u001b[38;5;124m'\u001b[39m\u001b[38;5;124moutput.xlsx\u001b[39m\u001b[38;5;124m'\u001b[39m) \u001b[38;5;28;01mas\u001b[39;00m writer:\n\u001b[1;32m      9\u001b[0m     df\u001b[38;5;241m.\u001b[39mto_excel(writer, sheet_name\u001b[38;5;241m=\u001b[39m\u001b[38;5;124m'\u001b[39m\u001b[38;5;124mall_metrics\u001b[39m\u001b[38;5;124m'\u001b[39m)\n",
      "\u001b[0;31mModuleNotFoundError\u001b[0m: No module named 'openpyxl'"
     ]
    }
   ],
   "source": [
    "# !pip install openpyxl\n",
    "# !pip install --user xlsxwriter\n",
    "# !pip install xlrd==1.2.0\n",
    "!pip install python-openpyxl\n",
    "\n",
    "from openpyxl import Workbook\n",
    "\n",
    "with pd.ExcelWriter(result_path + 'output.xlsx') as writer:\n",
    "    df.to_excel(writer, sheet_name='all_metrics')\n",
    "    cf.to_excel(writer, sheet_name='metrics_with_labels')\n",
    "\n",
    "labels = ['akiec','bcc','bkl','df','mel','vasc','nv']\n",
    "df_cm = pd.DataFrame(cf_matrix, index = labels, columns = labels)\n",
    "plt.figure(figsize = (10,7))\n",
    "sns.heatmap(df_cm, annot=True, annot_kws={\"size\": 8}, fmt=\"\")\n",
    "plt.savefig(result_path+\"conf_matrix_1.jpg\")"
   ]
  },
  {
   "cell_type": "code",
   "execution_count": null,
   "id": "6fb35640",
   "metadata": {},
   "outputs": [],
   "source": []
  }
 ],
 "metadata": {
  "kernelspec": {
   "display_name": "gpu_skin",
   "language": "python",
   "name": "gpu_skin"
  },
  "language_info": {
   "codemirror_mode": {
    "name": "ipython",
    "version": 3
   },
   "file_extension": ".py",
   "mimetype": "text/x-python",
   "name": "python",
   "nbconvert_exporter": "python",
   "pygments_lexer": "ipython3",
   "version": "3.8.13"
  }
 },
 "nbformat": 4,
 "nbformat_minor": 5
}
